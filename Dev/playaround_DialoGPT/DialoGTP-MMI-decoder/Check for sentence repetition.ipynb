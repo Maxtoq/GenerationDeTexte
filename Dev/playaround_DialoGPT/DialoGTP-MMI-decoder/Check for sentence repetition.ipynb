{
 "cells": [
  {
   "cell_type": "markdown",
   "metadata": {},
   "source": [
    "# The goal is to implement a strategy to check for big n-gram overlap between a generated response and previous utterances\n",
    "\n",
    "### 1) Word segmentation"
   ]
  },
  {
   "cell_type": "code",
   "execution_count": 10,
   "metadata": {},
   "outputs": [
    {
     "name": "stderr",
     "output_type": "stream",
     "text": [
      "[nltk_data] Downloading package punkt to /home/doctoq/nltk_data...\n",
      "[nltk_data]   Unzipping tokenizers/punkt.zip.\n"
     ]
    },
    {
     "data": {
      "text/plain": [
       "True"
      ]
     },
     "execution_count": 10,
     "metadata": {},
     "output_type": "execute_result"
    }
   ],
   "source": [
    "import nltk\n",
    "nltk.download('punkt')"
   ]
  },
  {
   "cell_type": "code",
   "execution_count": 12,
   "metadata": {},
   "outputs": [
    {
     "name": "stdout",
     "output_type": "stream",
     "text": [
      "['Prof.', 'Martin', 'solves', 'problems', 'with', 'his', 'inventions', 'and', 'his', 'hurly-burlytron', 'machine', 'that', 'drips', 'ideas', '.']\n"
     ]
    }
   ],
   "source": [
    "from nltk import word_tokenize \n",
    "\n",
    "text = \"Prof. Martin solves problems with his inventions and his hurly-burlytron machine that drips ideas.\"\n",
    "\n",
    "print(word_tokenize(text))"
   ]
  },
  {
   "cell_type": "markdown",
   "metadata": {},
   "source": [
    "### 2) Spell-check words"
   ]
  },
  {
   "cell_type": "code",
   "execution_count": null,
   "metadata": {},
   "outputs": [],
   "source": []
  },
  {
   "cell_type": "markdown",
   "metadata": {},
   "source": [
    "### 3) Compute n-gram overlap score"
   ]
  },
  {
   "cell_type": "code",
   "execution_count": 15,
   "metadata": {},
   "outputs": [
    {
     "name": "stdout",
     "output_type": "stream",
     "text": [
      "<generator object ngrams at 0x7fdbb2391360>\n"
     ]
    }
   ],
   "source": [
    "from nltk.util import ngrams"
   ]
  },
  {
   "cell_type": "code",
   "execution_count": 23,
   "metadata": {},
   "outputs": [],
   "source": [
    "def count_ngrams_overlap(ngram_list1, ngram_list2):\n",
    "    \"\"\" Count number of same ngrams in the two lists. \"\"\"\n",
    "    overlaps = []\n",
    "    count = 0\n",
    "    for ngram in list1:\n",
    "        if ngram in list2:\n",
    "            overlaps.append(ngram)\n",
    "            count += 1\n",
    "    return overlaps, count"
   ]
  },
  {
   "cell_type": "code",
   "execution_count": 35,
   "metadata": {},
   "outputs": [
    {
     "data": {
      "text/plain": [
       "0.6325000000000001"
      ]
     },
     "execution_count": 35,
     "metadata": {},
     "output_type": "execute_result"
    }
   ],
   "source": [
    "def compute_overlap(test_word_list, ref_word_list):\n",
    "    \"\"\" Return ngram overlap between two lists of words, taking in consideration multiple sizes of ngrams. \"\"\"\n",
    "    max_n = max(len(test_word_list), len(ref_word_list))\n",
    "    \n",
    "    overlap_list = []\n",
    "    max_overlap = 0\n",
    "    for n in range(1, max_n + 1):\n",
    "        # Get ngrams of both lists\n",
    "        test_ngrams = list(ngrams(test_word_list, n))\n",
    "        ref_ngrams = list(ngrams(ref_word_list, n))\n",
    "        \n",
    "        if len(test_ngrams) == 0 or len(ref_ngrams) == 0:\n",
    "            overlap_list.append(0.0)\n",
    "            continue\n",
    "        \n",
    "        _, count = count_ngrams_overlap(test_ngrams, ref_ngrams)\n",
    "        \n",
    "        if count > 0 and n > max_overlap:\n",
    "            max_overlap = n\n",
    "        \n",
    "        # Compute overlap for n\n",
    "        n_overlap = 0.5 * (count / len(test_ngrams)) + 0.5 * (count / len(ref_ngrams))\n",
    "        \n",
    "        overlap_list.append(n_overlap)\n",
    "        \n",
    "    mean_overlap = sum(overlap_list) / len(overlap_list)\n",
    "    \n",
    "    overlap_ratio = max_overlap / len(test_word_list)\n",
    "    \n",
    "    overlap_score = 0.5 * mean_overlap + 0.5 * overlap_ratio\n",
    "    \n",
    "    return overlap_score\n",
    "        \n",
    "compute_overlap(['Prof.', 'Martin'], ['Prof.', 'Martin', 'solves', 'problems', 'with'])"
   ]
  },
  {
   "cell_type": "code",
   "execution_count": 36,
   "metadata": {},
   "outputs": [],
   "source": [
    "def get_overlap_score(sentence, memory):\n",
    "    # Split sentence\n",
    "    word_list = word_tokenize(sentence)\n",
    "    \n",
    "    max_overlap_socre = 0.0\n",
    "    for item in memory:\n",
    "        overlap_score = compute_overlap(word_list, item)\n",
    "        \n",
    "        if overlap_score > max_overlap_score:\n",
    "            max_overlap_score = overlap_score\n",
    "    \n",
    "    return max_overlap_score"
   ]
  },
  {
   "cell_type": "code",
   "execution_count": null,
   "metadata": {},
   "outputs": [],
   "source": []
  }
 ],
 "metadata": {
  "kernelspec": {
   "display_name": ".dialogpt_mmi_env",
   "language": "python",
   "name": ".dialogpt_mmi_env"
  },
  "language_info": {
   "codemirror_mode": {
    "name": "ipython",
    "version": 3
   },
   "file_extension": ".py",
   "mimetype": "text/x-python",
   "name": "python",
   "nbconvert_exporter": "python",
   "pygments_lexer": "ipython3",
   "version": "3.6.9"
  }
 },
 "nbformat": 4,
 "nbformat_minor": 4
}
