{
 "cells": [
  {
   "cell_type": "markdown",
   "metadata": {},
   "source": [
    "# The goal is to implement a strategy to check for big n-gram overlap between a generated response and previous utterances\n",
    "\n",
    "### 1) Word segmentation"
   ]
  },
  {
   "cell_type": "code",
   "execution_count": 10,
   "metadata": {},
   "outputs": [
    {
     "name": "stderr",
     "output_type": "stream",
     "text": [
      "[nltk_data] Downloading package punkt to /home/doctoq/nltk_data...\n",
      "[nltk_data]   Unzipping tokenizers/punkt.zip.\n"
     ]
    },
    {
     "data": {
      "text/plain": [
       "True"
      ]
     },
     "execution_count": 10,
     "metadata": {},
     "output_type": "execute_result"
    }
   ],
   "source": [
    "import nltk\n",
    "nltk.download('punkt')"
   ]
  },
  {
   "cell_type": "code",
   "execution_count": 12,
   "metadata": {},
   "outputs": [
    {
     "name": "stdout",
     "output_type": "stream",
     "text": [
      "['Prof.', 'Martin', 'solves', 'problems', 'with', 'his', 'inventions', 'and', 'his', 'hurly-burlytron', 'machine', 'that', 'drips', 'ideas', '.']\n"
     ]
    }
   ],
   "source": [
    "from nltk import word_tokenize \n",
    "\n",
    "text = \"Prof. Martin solves problems with his inventions and his hurly-burlytron machine that drips ideas.\"\n",
    "\n",
    "print(word_tokenize(text))"
   ]
  },
  {
   "cell_type": "markdown",
   "metadata": {},
   "source": [
    "### 2) Spell-check words"
   ]
  },
  {
   "cell_type": "code",
   "execution_count": null,
   "metadata": {},
   "outputs": [],
   "source": []
  },
  {
   "cell_type": "markdown",
   "metadata": {},
   "source": [
    "### 3) Compute n-gram overlap score"
   ]
  },
  {
   "cell_type": "code",
   "execution_count": 60,
   "metadata": {},
   "outputs": [],
   "source": [
    "import numpy as np\n",
    "from nltk.util import ngrams"
   ]
  },
  {
   "cell_type": "code",
   "execution_count": 23,
   "metadata": {},
   "outputs": [],
   "source": [
    "def count_ngrams_overlap(ngram_list1, ngram_list2):\n",
    "    \"\"\" Count number of same ngrams in the two lists. \"\"\"\n",
    "    overlaps = []\n",
    "    count = 0\n",
    "    for ngram in list1:\n",
    "        if ngram in list2:\n",
    "            overlaps.append(ngram)\n",
    "            count += 1\n",
    "    return overlaps, count"
   ]
  },
  {
   "cell_type": "code",
   "execution_count": 72,
   "metadata": {},
   "outputs": [
    {
     "data": {
      "text/plain": [
       "0.26224489795918376"
      ]
     },
     "execution_count": 72,
     "metadata": {},
     "output_type": "execute_result"
    }
   ],
   "source": [
    "def range_vec(n):\n",
    "    \"\"\" Produce a vector of size n, ranging from (1 / n) to 1. \"\"\"\n",
    "    max_v = 1 / (n)\n",
    "    \n",
    "    vec = []\n",
    "    for i in range(n + 1):\n",
    "        vec.append(1 - i * max_v)\n",
    "    \n",
    "    return vec[:-1][::-1]\n",
    "\n",
    "def compute_overlap(test_word_list, ref_word_list):\n",
    "    \"\"\" Return ngram overlap between two lists of words, taking in consideration multiple sizes of ngrams. \"\"\"\n",
    "    max_n = max(len(test_word_list), len(ref_word_list))\n",
    "    \n",
    "    overlap_list = []\n",
    "    max_overlap = 0\n",
    "    for n in range(2, max_n + 1):\n",
    "        # Get ngrams of both lists\n",
    "        test_ngrams = list(ngrams(test_word_list, n))\n",
    "        ref_ngrams = list(ngrams(ref_word_list, n))\n",
    "        \n",
    "        if len(test_ngrams) == 0 or len(ref_ngrams) == 0:\n",
    "            overlap_list.append(0.0)\n",
    "            continue\n",
    "        \n",
    "        _, count = count_ngrams_overlap(test_ngrams, ref_ngrams)\n",
    "        \n",
    "        if count > 0 and n > max_overlap:\n",
    "            max_overlap = n\n",
    "        \n",
    "        # Compute overlap for n\n",
    "        #n_overlap = 0.5 * (count / len(test_ngrams)) + 0.5 * (count / len(ref_ngrams))\n",
    "        n_overlap = 0.5 * (count * len(test_ngrams)) + 0.5 * (count * len(ref_ngrams))\n",
    "        \n",
    "        overlap_list.append(n_overlap)\n",
    "\n",
    "    # Penalize smaller ngram overlaps\n",
    "    overlap_list = np.multiply(overlap_list, range_vec(len(overlap_list)))\n",
    "\n",
    "    mean_overlap = sum(overlap_list) / len(overlap_list)\n",
    "    \n",
    "    overlap_ratio = max_overlap / len(test_word_list)\n",
    "    \n",
    "    overlap_score = 0.5 * mean_overlap + 0.5 * overlap_ratio\n",
    "    \n",
    "    return overlap_score\n",
    "        \n",
    "compute_overlap(\n",
    "    ['Mr.', 'Patrick', 'shows', 'his', 'inventions', 'and', 'goes', 'to', 'the', 'market.'], \n",
    "    ['Prof.', 'Martin', 'solves', 'problems', 'with', 'his', 'inventions', 'and', 'his', 'hurly-burlytron', 'machine', 'that', 'drips', 'ideas', '.']\n",
    ")"
   ]
  },
  {
   "cell_type": "code",
   "execution_count": 73,
   "metadata": {},
   "outputs": [
    {
     "data": {
      "text/plain": [
       "2.7959183673469394"
      ]
     },
     "execution_count": 73,
     "metadata": {},
     "output_type": "execute_result"
    }
   ],
   "source": [
    "compute_overlap(\n",
    "    ['Prof.', 'Martin', 'solves', 'problems', 'with', 'his', 'inventions', 'and', 'his'], \n",
    "    ['Prof.', 'Martin', 'solves', 'problems', 'with', 'his', 'inventions', 'and', 'his', 'hurly-burlytron', 'machine', 'that', 'drips', 'ideas', '.']\n",
    ")"
   ]
  },
  {
   "cell_type": "code",
   "execution_count": 74,
   "metadata": {},
   "outputs": [
    {
     "data": {
      "text/plain": [
       "0.30729166666666663"
      ]
     },
     "execution_count": 74,
     "metadata": {},
     "output_type": "execute_result"
    }
   ],
   "source": [
    "compute_overlap(\n",
    "    ['Prof.', 'Martin', 'solves', 'problems', 'with', 'his', 'inventions', 'and', 'his'], \n",
    "    ['Prof.', 'Martin', 'solves']\n",
    ")"
   ]
  },
  {
   "cell_type": "code",
   "execution_count": 75,
   "metadata": {},
   "outputs": [
    {
     "data": {
      "text/plain": [
       "1.25"
      ]
     },
     "execution_count": 75,
     "metadata": {},
     "output_type": "execute_result"
    }
   ],
   "source": [
    "compute_overlap(\n",
    "    ['Prof.', 'Martin', 'solves'], \n",
    "    ['Prof.', 'Martin', 'solves']\n",
    ")"
   ]
  },
  {
   "cell_type": "code",
   "execution_count": 36,
   "metadata": {},
   "outputs": [],
   "source": [
    "def get_overlap_score(sentence, memory):\n",
    "    \"\"\" \n",
    "        Compute overlap score between a given sentence and sentence saved in memory.\n",
    "        Returns maximum computed score.\n",
    "    \"\"\"\n",
    "    # Split sentence\n",
    "    word_list = word_tokenize(sentence)\n",
    "    \n",
    "    max_overlap_socre = 0.0\n",
    "    for item in memory:\n",
    "        overlap_score = compute_overlap(word_list, item)\n",
    "        \n",
    "        if overlap_score > max_overlap_score:\n",
    "            max_overlap_score = overlap_score\n",
    "    \n",
    "    return max_overlap_score"
   ]
  },
  {
   "cell_type": "code",
   "execution_count": null,
   "metadata": {},
   "outputs": [],
   "source": []
  }
 ],
 "metadata": {
  "kernelspec": {
   "display_name": ".dialogpt_mmi_env",
   "language": "python",
   "name": ".dialogpt_mmi_env"
  },
  "language_info": {
   "codemirror_mode": {
    "name": "ipython",
    "version": 3
   },
   "file_extension": ".py",
   "mimetype": "text/x-python",
   "name": "python",
   "nbconvert_exporter": "python",
   "pygments_lexer": "ipython3",
   "version": "3.6.9"
  }
 },
 "nbformat": 4,
 "nbformat_minor": 4
}
